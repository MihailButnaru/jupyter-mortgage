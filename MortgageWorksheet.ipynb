{
 "cells": [
  {
   "cell_type": "markdown",
   "metadata": {},
   "source": [
    "# Rental investment property worksheet\n",
    "\n",
    "Crunch numbers about potential real estate investments\n",
    "\n",
    "## First-time introduction\n",
    "\n",
    "To use this notebook, you must _run_ code in each of its _cells_. Simply select \"Run All\" in the \"Cell\" menu above, wait a moment, and crunch your numbers.\n",
    "\n",
    "## Use this notebook online\n",
    "\n",
    "If you are viewing this in a static notebook frontend, such as on GitHub, there won't be much to see. Unfortunately, this notebook is only useful when it's actually being run inside Jupyter.\n",
    "\n",
    "However, you can use <https://mybinder.org> to run the notebook online. This does run it inside a real Jupyter instance, allowing full interactive use and even writing and running code in new Python cells.\n",
    "\n",
    "[![Binder](https://mybinder.org/badge.svg)](https://mybinder.org/v2/gh/mrled/jupyter-mortgage/master?filepath=MortgageWorksheet.ipynb)\n",
    "\n",
    "---"
   ]
  },
  {
   "cell_type": "code",
   "execution_count": 1,
   "metadata": {},
   "outputs": [],
   "source": [
    "import logging.config\n",
    "import os\n",
    "\n",
    "import bloodloan.ui.ui as ui\n",
    "\n",
    "# The directory where this Jupyter notebook is found\n",
    "# NOTE: os.getcwd() is not portable in Jupyter notebooks\n",
    "# <https://github.com/ipython/ipython/issues/10123>\n",
    "# If necessary, hard-code this path\n",
    "notebookdir = os.getcwd()\n",
    "\n",
    "# Configure logging to a file\n",
    "logging.config.dictConfig(ui.getlogconfig(notebookdir, level='DEBUG'))"
   ]
  },
  {
   "cell_type": "code",
   "execution_count": 2,
   "metadata": {
    "scrolled": false
   },
   "outputs": [
    {
     "data": {
      "text/html": [
       "\n",
       "        <script>\n",
       "        IPython.OutputArea.prototype._should_scroll = function(lines) {\n",
       "            return false;\n",
       "        }\n",
       "        </script>\n",
       "        "
      ],
      "text/plain": [
       "<IPython.core.display.HTML object>"
      ]
     },
     "metadata": {},
     "output_type": "display_data"
    },
    {
     "data": {
      "text/html": [
       "<h2>Parameters</h2>\n",
       "\n",
       "<p>Hopefully most of the controls below are self-explanatory. Some notes:</p>\n",
       "<ul>\n",
       "    <li>Enter the best address you can, including city, state, and zip code, to limit a bunch of irrelevant results in other locations</li>\n",
       "    <li>\n",
       "        If you have a Goole Maps API key\n",
       "        (<a href=\"https://console.developers.google.com/flows/enableapi?apiid=maps_backend,geocoding_backend,directions_backend,distance_matrix_backend,elevation_backend&keyType=CLIENT_SIDE&reusekey=true\">create one here</a>)\n",
       "        we will use Google maps;\n",
       "        if not, we use OpenStreetMaps\n",
       "    </li>\n",
       "    <li>\n",
       "        Currently, the notebook only knows how to calculate closing costs for one type of mortgage;\n",
       "        more are forthcoming\n",
       "    </li>\n",
       "</ul>\n"
      ],
      "text/plain": [
       "<IPython.core.display.HTML object>"
      ]
     },
     "metadata": {},
     "output_type": "display_data"
    },
    {
     "data": {
      "application/vnd.jupyter.widget-view+json": {
       "model_id": "3abc79f5a96a49bea9389c046d307eb7",
       "version_major": 2,
       "version_minor": 0
      },
      "text/html": [
       "<p>Failed to display Jupyter Widget of type <code>Box</code>.</p>\n",
       "<p>\n",
       "  If you're reading this message in Jupyter Notebook or JupyterLab, it may mean\n",
       "  that the widgets JavaScript is still loading. If this message persists, it\n",
       "  likely means that the widgets JavaScript library is either not installed or\n",
       "  not enabled. See the <a href=\"https://ipywidgets.readthedocs.io/en/stable/user_install.html\">Jupyter\n",
       "  Widgets Documentation</a> for setup instructions.\n",
       "</p>\n",
       "<p>\n",
       "  If you're reading this message in another notebook frontend (for example, a static\n",
       "  rendering on GitHub or <a href=\"https://nbviewer.jupyter.org/\">NBViewer</a>),\n",
       "  it may mean that your frontend doesn't currently support widgets.\n",
       "</p>\n"
      ],
      "text/plain": [
       "Box(children=(Box(children=(Label(value='Interest rate'), BoundedFloatText(value=3.75, min=0.01, step=0.25)), layout=Layout(display='flex', flex_flow='row', justify_content='space-between')), Box(children=(Label(value='Sale price'), BoundedFloatText(value=250000.0, max=1000000000.0, min=1.0, step=1000.0)), layout=Layout(display='flex', flex_flow='row', justify_content='space-between')), Box(children=(Label(value='Project rent'), BoundedIntText(value=0, max=10000)), layout=Layout(display='flex', flex_flow='row', justify_content='space-between')), Box(children=(Label(value='Loan term in years'), Dropdown(index=3, options=(15, 20, 25, 30), value=30)), layout=Layout(display='flex', flex_flow='row', justify_content='space-between')), Box(children=(Label(value='Monthly overpayment amount'), BoundedIntText(value=50, max=1000000, step=5)), layout=Layout(display='flex', flex_flow='row', justify_content='space-between')), Box(children=(Label(value='Yearly appreciation'), BoundedFloatText(value=0.5, max=20.0, min=-20.0, step=0.5)), layout=Layout(display='flex', flex_flow='row', justify_content='space-between')), Box(children=(Label(value='Yearly property taxes'), BoundedIntText(value=5500, max=1000000, step=5)), layout=Layout(display='flex', flex_flow='row', justify_content='space-between')), Box(children=(Label(value='Property address'), Textarea(value='1600 Pennsylvania Ave NW, Washington, DC 20500')), layout=Layout(display='flex', flex_flow='row', justify_content='space-between')), Box(children=(Label(value='Google API key (optional)'), Text(value='')), layout=Layout(display='flex', flex_flow='row', justify_content='space-between')), Box(children=(Label(value='Cost configurations'), SelectMultiple(options=('Monthly CapEx', 'Texas property taxes', 'Management costs', 'IronHarbor FHA costs'), value=())), layout=Layout(display='flex', flex_flow='row', justify_content='space-between'))), layout=Layout(align_items='stretch', display='flex', flex_flow='column', width='70%'))"
      ]
     },
     "metadata": {},
     "output_type": "display_data"
    },
    {
     "data": {
      "application/vnd.jupyter.widget-view+json": {
       "model_id": "f4f760f29eac4521b0c367a95e228b9a",
       "version_major": 2,
       "version_minor": 0
      },
      "text/html": [
       "<p>Failed to display Jupyter Widget of type <code>Output</code>.</p>\n",
       "<p>\n",
       "  If you're reading this message in Jupyter Notebook or JupyterLab, it may mean\n",
       "  that the widgets JavaScript is still loading. If this message persists, it\n",
       "  likely means that the widgets JavaScript library is either not installed or\n",
       "  not enabled. See the <a href=\"https://ipywidgets.readthedocs.io/en/stable/user_install.html\">Jupyter\n",
       "  Widgets Documentation</a> for setup instructions.\n",
       "</p>\n",
       "<p>\n",
       "  If you're reading this message in another notebook frontend (for example, a static\n",
       "  rendering on GitHub or <a href=\"https://nbviewer.jupyter.org/\">NBViewer</a>),\n",
       "  it may mean that your frontend doesn't currently support widgets.\n",
       "</p>\n"
      ],
      "text/plain": [
       "Output()"
      ]
     },
     "metadata": {},
     "output_type": "display_data"
    }
   ],
   "source": [
    "# Start the UI\n",
    "ui.disablecellscroll()\n",
    "ui.main(notebookdir)"
   ]
  },
  {
   "cell_type": "code",
   "execution_count": 3,
   "metadata": {},
   "outputs": [
    {
     "data": {
      "text/html": [
       "\n",
       "        <script>\n",
       "        show_inputs = true;\n",
       "        function toggleinputs() {\n",
       "            if (show_inputs){\n",
       "                $('div.input').hide();\n",
       "            } else {\n",
       "                $('div.input').show();\n",
       "            }\n",
       "            show_inputs = !show_inputs;\n",
       "        }\n",
       "        // Uncomment this to automatically hide input cells when notebook is run:\n",
       "        //$(document).ready(toggleinputs);\n",
       "        </script>\n",
       "        "
      ],
      "text/plain": [
       "<IPython.core.display.HTML object>"
      ]
     },
     "metadata": {},
     "output_type": "display_data"
    },
    {
     "data": {
      "text/html": [
       "\n",
       "        <h2>Modifying this notebook</h2>\n",
       "\n",
       "        <p>Input code for this notebook can be hidden for easier reading (and printing).</p>\n",
       "        <p>\n",
       "            For simple inputs, you may not need to view the code;\n",
       "            you can change values like sale price and interest rate using the GUI widgets.\n",
       "            For more complex inputs, such as defining a new set of closing costs,\n",
       "            you will need to enable input code display, and create a list of closing costs in inline Python.\n",
       "        </p>\n",
       "        <p><button onclick=\"toggleinputs()\">Toggle input code display</button></p>\n",
       "        <hr/>\n",
       "        "
      ],
      "text/plain": [
       "<IPython.core.display.HTML object>"
      ]
     },
     "metadata": {},
     "output_type": "display_data"
    }
   ],
   "source": [
    "ui.toggleinputcells()"
   ]
  },
  {
   "cell_type": "code",
   "execution_count": null,
   "metadata": {},
   "outputs": [],
   "source": []
  }
 ],
 "metadata": {
  "kernelspec": {
   "display_name": "Python 3",
   "language": "python",
   "name": "python3"
  },
  "language_info": {
   "codemirror_mode": {
    "name": "ipython",
    "version": 3
   },
   "file_extension": ".py",
   "mimetype": "text/x-python",
   "name": "python",
   "nbconvert_exporter": "python",
   "pygments_lexer": "ipython3",
   "version": "3.6.3"
  }
 },
 "nbformat": 4,
 "nbformat_minor": 2
}
