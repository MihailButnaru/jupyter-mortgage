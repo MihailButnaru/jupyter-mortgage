{
 "cells": [
  {
   "cell_type": "markdown",
   "metadata": {},
   "source": [
    "# Rental investment property worksheet\n",
    "\n",
    "Crunch numbers about potential real estate investments\n",
    "\n",
    "## First-time introduction\n",
    "\n",
    "To use this notebook, you must _run_ code in each of its _cells_. Simply select \"Run All\" in the \"Cell\" menu above, wait a moment, and crunch your numbers.\n",
    "\n",
    "If you are interested in modifying this notebook, scroll to the bottom and click the \"Toggle input code display\" button.\n",
    "\n",
    "## Use this notebook online\n",
    "\n",
    "If you are viewing this in a static notebook frontend, such as on GitHub, there won't be much to see. Unfortunately, this notebook is only useful when it's actually being run inside Jupyter.\n",
    "\n",
    "However, you can use <https://mybinder.org> to run the notebook online. This does run it inside a real Jupyter instance, allowing full interactive use and even writing and running code in new Python cells.\n",
    "\n",
    "[![Binder](https://mybinder.org/badge.svg)](https://mybinder.org/v2/gh/mrled/jupyter-mortgage/master?filepath=MortgageWorksheet.ipynb)\n",
    "\n",
    "---"
   ]
  },
  {
   "cell_type": "code",
   "execution_count": 1,
   "metadata": {
    "scrolled": true
   },
   "outputs": [
    {
     "data": {
      "text/html": [
       "\n",
       "        <script>\n",
       "        IPython.OutputArea.prototype._should_scroll = function(lines) {\n",
       "            return false;\n",
       "        }\n",
       "        </script>\n",
       "        "
      ],
      "text/plain": [
       "<IPython.core.display.HTML object>"
      ]
     },
     "metadata": {},
     "output_type": "display_data"
    },
    {
     "data": {
      "text/html": [
       "<h2>Parameters</h2>\n",
       "\n",
       "<p>Hopefully most of the controls below are self-explanatory. Some notes:</p>\n",
       "<ul>\n",
       "    <li>Enter the best address you can, including city, state, and zip code, to limit a bunch of irrelevant results in other locations</li>\n",
       "    <li>\n",
       "        If you have a Goole Maps API key\n",
       "        (<a href=\"https://console.developers.google.com/flows/enableapi?apiid=maps_backend,geocoding_backend,directions_backend,distance_matrix_backend,elevation_backend&keyType=CLIENT_SIDE&reusekey=true\">create one here</a>)\n",
       "        we will use Google maps;\n",
       "        if not, we use OpenStreetMaps\n",
       "    </li>\n",
       "    <li>\n",
       "        Currently, the notebook only knows how to calculate closing costs for one type of mortgage;\n",
       "        more are forthcoming\n",
       "    </li>\n",
       "</ul>\n"
      ],
      "text/plain": [
       "<IPython.core.display.HTML object>"
      ]
     },
     "metadata": {},
     "output_type": "display_data"
    },
    {
     "data": {
      "application/vnd.jupyter.widget-view+json": {
       "model_id": "ecfe843c7a3e492c843a683796dde182",
       "version_major": 2,
       "version_minor": 0
      },
      "text/html": [
       "<p>Failed to display Jupyter Widget of type <code>interactive</code>.</p>\n",
       "<p>\n",
       "  If you're reading this message in Jupyter Notebook or JupyterLab, it may mean\n",
       "  that the widgets JavaScript is still loading. If this message persists, it\n",
       "  likely means that the widgets JavaScript library is either not installed or\n",
       "  not enabled. See the <a href=\"https://ipywidgets.readthedocs.io/en/stable/user_install.html\">Jupyter\n",
       "  Widgets Documentation</a> for setup instructions.\n",
       "</p>\n",
       "<p>\n",
       "  If you're reading this message in another notebook frontend (for example, a static\n",
       "  rendering on GitHub or <a href=\"https://nbviewer.jupyter.org/\">NBViewer</a>),\n",
       "  it may mean that your frontend doesn't currently support widgets.\n",
       "</p>\n"
      ],
      "text/plain": [
       "interactive(children=(BoundedFloatText(value=3.75, description='APR', min=0.01, step=0.25, style=DescriptionStyle(description_width='10em')), BoundedFloatText(value=250000.0, description='Sale price', max=1000000000.0, min=1.0, step=1000.0, style=DescriptionStyle(description_width='10em')), Dropdown(description='Loan term in years', index=3, options=(15, 20, 25, 30), style=DescriptionStyle(description_width='10em'), value=30), BoundedIntText(value=50, description='Monthly overpayment amount', max=1000000, step=5, style=DescriptionStyle(description_width='10em')), BoundedFloatText(value=0.5, description='Yearly appreciation', max=20.0, min=-20.0, step=0.5, style=DescriptionStyle(description_width='10em')), BoundedIntText(value=5500, description='Yearly property taxes', max=1000000, step=5, style=DescriptionStyle(description_width='10em')), Text(value='1600 Pennsylvania Ave NW, Washington, DC 20500', description='Address', style=DescriptionStyle(description_width='10em')), Text(value='', description='Google API key', style=DescriptionStyle(description_width='10em')), Output()), _dom_classes=('widget-interact',))"
      ]
     },
     "metadata": {},
     "output_type": "display_data"
    }
   ],
   "source": [
    "# Initial setup cell: import modules, do initial configuration\n",
    "\n",
    "import mortgageui\n",
    "\n",
    "mortgageui.disablecellscroll()\n",
    "\n",
    "mortgageui.propertyinfo()"
   ]
  },
  {
   "cell_type": "code",
   "execution_count": 2,
   "metadata": {},
   "outputs": [
    {
     "data": {
      "text/html": [
       "\n",
       "        <script>\n",
       "        show_inputs = true;\n",
       "        function toggleinputs() {\n",
       "            if (show_inputs){\n",
       "                $('div.input').hide();\n",
       "            } else {\n",
       "                $('div.input').show();\n",
       "            }\n",
       "            show_inputs = !show_inputs;\n",
       "        }\n",
       "        $(document).ready(toggleinputs);\n",
       "        </script>\n",
       "        "
      ],
      "text/plain": [
       "<IPython.core.display.HTML object>"
      ]
     },
     "metadata": {},
     "output_type": "display_data"
    },
    {
     "data": {
      "text/html": [
       "\n",
       "        <h2>Modifying this notebook</h2>\n",
       "\n",
       "        <p>Input code for this notebook is by default hidden for easier reading.</p>\n",
       "        <p>\n",
       "            For simple inputs, you may not need to view the code;\n",
       "            you can change values like sale price and APR using the GUI widgets.\n",
       "            For more complex inputs, such as defining a new set of closing costs,\n",
       "            you will need to enable input code display, and create a list of closing costs in inline Python.\n",
       "        </p>\n",
       "        <p>\n",
       "            Note: If you're reading this message in another notebook frontend\n",
       "            (for example, a static rendering on GitHub or NBViewer),\n",
       "            you will not see the rest of the notebook.\n",
       "            You must run the notebook from Jupyter itself.\n",
       "        </p>\n",
       "        <p><button onclick=\"toggleinputs()\">Toggle input code display</button></p>\n",
       "        <hr/>\n",
       "        "
      ],
      "text/plain": [
       "<IPython.core.display.HTML object>"
      ]
     },
     "metadata": {},
     "output_type": "display_data"
    }
   ],
   "source": [
    "mortgageui.toggleinputcells()"
   ]
  }
 ],
 "metadata": {
  "kernelspec": {
   "display_name": "Python 3",
   "language": "python",
   "name": "python3"
  },
  "language_info": {
   "codemirror_mode": {
    "name": "ipython",
    "version": 3
   },
   "file_extension": ".py",
   "mimetype": "text/x-python",
   "name": "python",
   "nbconvert_exporter": "python",
   "pygments_lexer": "ipython3",
   "version": "3.6.1"
  }
 },
 "nbformat": 4,
 "nbformat_minor": 2
}
