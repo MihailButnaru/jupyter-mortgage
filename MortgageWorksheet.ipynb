{
 "cells": [
  {
   "cell_type": "markdown",
   "metadata": {},
   "source": [
    "# Mortgage amortization calculator\n",
    "\n",
    "If all you're interested in is that sweet sweet ROI and not my Python code, keep ⬇️ scrolling ⬇️ down ⬇️"
   ]
  },
  {
   "cell_type": "code",
   "execution_count": 1,
   "metadata": {},
   "outputs": [
    {
     "name": "stdout",
     "output_type": "stream",
     "text": [
      "Monthly mortgage payment: 926.2311831442486\n",
      "After 1 month, you will owe: 199698.76881685574\n",
      "After 5 years, you will owe: 180154.63443195657\n"
     ]
    },
    {
     "data": {
      "text/html": [
       "<h1>Mortgage amortization schedule</h1><p>Amortization schedule for a $200,000.00 loan over 360 months at 3.75% interest, including a $1,000.00 overpayment each month.</p><table><tr><th>Month</th><th>Regular payment</th><th>Interest</th><th>Balance</th><th>Overpayment</th><th>Remaining principal</th></tr><tr><td>Initial loan amount</td><td></td><td></td><td></td><td></td><td>$200,000.00</td></tr><tr><td>0</td><td>$926.23</td><td>$625.00</td><td>$301.23</td><td>$1,000.00</td><td>$198,698.77</td></tr><tr><td>1</td><td>$926.23</td><td>$620.93</td><td>$305.30</td><td>$1,000.00</td><td>$197,393.47</td></tr><tr><td>2</td><td>$926.23</td><td>$616.85</td><td>$309.38</td><td>$1,000.00</td><td>$196,084.09</td></tr><tr><td>3</td><td>$926.23</td><td>$612.76</td><td>$313.47</td><td>$1,000.00</td><td>$194,770.63</td></tr><tr><td>4</td><td>$926.23</td><td>$608.66</td><td>$317.57</td><td>$1,000.00</td><td>$193,453.05</td></tr><tr><td>5</td><td>$926.23</td><td>$604.54</td><td>$321.69</td><td>$1,000.00</td><td>$192,131.36</td></tr><tr><td>6</td><td>$926.23</td><td>$600.41</td><td>$325.82</td><td>$1,000.00</td><td>$190,805.54</td></tr><tr><td>7</td><td>$926.23</td><td>$596.27</td><td>$329.96</td><td>$1,000.00</td><td>$189,475.58</td></tr><tr><td>8</td><td>$926.23</td><td>$592.11</td><td>$334.12</td><td>$1,000.00</td><td>$188,141.46</td></tr><tr><td>9</td><td>$926.23</td><td>$587.94</td><td>$338.29</td><td>$1,000.00</td><td>$186,803.17</td></tr><tr><td>10</td><td>$926.23</td><td>$583.76</td><td>$342.47</td><td>$1,000.00</td><td>$185,460.70</td></tr><tr><td>11</td><td>$926.23</td><td>$579.56</td><td>$346.67</td><td>$1,000.00</td><td>$184,114.03</td></tr><tr><td>12</td><td>$926.23</td><td>$575.36</td><td>$350.87</td><td>$1,000.00</td><td>$182,763.16</td></tr><tr><td>13</td><td>$926.23</td><td>$571.13</td><td>$355.10</td><td>$1,000.00</td><td>$181,408.06</td></tr><tr><td>14</td><td>$926.23</td><td>$566.90</td><td>$359.33</td><td>$1,000.00</td><td>$180,048.73</td></tr><tr><td>15</td><td>$926.23</td><td>$562.65</td><td>$363.58</td><td>$1,000.00</td><td>$178,685.15</td></tr><tr><td>16</td><td>$926.23</td><td>$558.39</td><td>$367.84</td><td>$1,000.00</td><td>$177,317.31</td></tr><tr><td>17</td><td>$926.23</td><td>$554.12</td><td>$372.11</td><td>$1,000.00</td><td>$175,945.20</td></tr><tr><td>18</td><td>$926.23</td><td>$549.83</td><td>$376.40</td><td>$1,000.00</td><td>$174,568.79</td></tr><tr><td>19</td><td>$926.23</td><td>$545.53</td><td>$380.70</td><td>$1,000.00</td><td>$173,188.09</td></tr><tr><td>20</td><td>$926.23</td><td>$541.21</td><td>$385.02</td><td>$1,000.00</td><td>$171,803.07</td></tr><tr><td>21</td><td>$926.23</td><td>$536.88</td><td>$389.35</td><td>$1,000.00</td><td>$170,413.72</td></tr><tr><td>22</td><td>$926.23</td><td>$532.54</td><td>$393.69</td><td>$1,000.00</td><td>$169,020.04</td></tr><tr><td>23</td><td>$926.23</td><td>$528.19</td><td>$398.04</td><td>$1,000.00</td><td>$167,621.99</td></tr><tr><td>24</td><td>$926.23</td><td>$523.82</td><td>$402.41</td><td>$1,000.00</td><td>$166,219.58</td></tr><tr><td>25</td><td>$926.23</td><td>$519.44</td><td>$406.79</td><td>$1,000.00</td><td>$164,812.79</td></tr><tr><td>26</td><td>$926.23</td><td>$515.04</td><td>$411.19</td><td>$1,000.00</td><td>$163,401.59</td></tr><tr><td>27</td><td>$926.23</td><td>$510.63</td><td>$415.60</td><td>$1,000.00</td><td>$161,985.99</td></tr><tr><td>28</td><td>$926.23</td><td>$506.21</td><td>$420.02</td><td>$1,000.00</td><td>$160,565.97</td></tr><tr><td>29</td><td>$926.23</td><td>$501.77</td><td>$424.46</td><td>$1,000.00</td><td>$159,141.51</td></tr><tr><td>30</td><td>$926.23</td><td>$497.32</td><td>$428.91</td><td>$1,000.00</td><td>$157,712.59</td></tr><tr><td>31</td><td>$926.23</td><td>$492.85</td><td>$433.38</td><td>$1,000.00</td><td>$156,279.21</td></tr><tr><td>32</td><td>$926.23</td><td>$488.37</td><td>$437.86</td><td>$1,000.00</td><td>$154,841.35</td></tr><tr><td>33</td><td>$926.23</td><td>$483.88</td><td>$442.35</td><td>$1,000.00</td><td>$153,399.00</td></tr><tr><td>34</td><td>$926.23</td><td>$479.37</td><td>$446.86</td><td>$1,000.00</td><td>$151,952.14</td></tr><tr><td>35</td><td>$926.23</td><td>$474.85</td><td>$451.38</td><td>$1,000.00</td><td>$150,500.76</td></tr><tr><td>36</td><td>$926.23</td><td>$470.31</td><td>$455.92</td><td>$1,000.00</td><td>$149,044.85</td></tr><tr><td>37</td><td>$926.23</td><td>$465.77</td><td>$460.47</td><td>$1,000.00</td><td>$147,584.38</td></tr><tr><td>38</td><td>$926.23</td><td>$461.20</td><td>$465.03</td><td>$1,000.00</td><td>$146,119.35</td></tr><tr><td>39</td><td>$926.23</td><td>$456.62</td><td>$469.61</td><td>$1,000.00</td><td>$144,649.74</td></tr><tr><td>40</td><td>$926.23</td><td>$452.03</td><td>$474.20</td><td>$1,000.00</td><td>$143,175.54</td></tr><tr><td>41</td><td>$926.23</td><td>$447.42</td><td>$478.81</td><td>$1,000.00</td><td>$141,696.73</td></tr><tr><td>42</td><td>$926.23</td><td>$442.80</td><td>$483.43</td><td>$1,000.00</td><td>$140,213.30</td></tr><tr><td>43</td><td>$926.23</td><td>$438.17</td><td>$488.06</td><td>$1,000.00</td><td>$138,725.24</td></tr><tr><td>44</td><td>$926.23</td><td>$433.52</td><td>$492.71</td><td>$1,000.00</td><td>$137,232.52</td></tr><tr><td>45</td><td>$926.23</td><td>$428.85</td><td>$497.38</td><td>$1,000.00</td><td>$135,735.14</td></tr><tr><td>46</td><td>$926.23</td><td>$424.17</td><td>$502.06</td><td>$1,000.00</td><td>$134,233.09</td></tr><tr><td>47</td><td>$926.23</td><td>$419.48</td><td>$506.75</td><td>$1,000.00</td><td>$132,726.33</td></tr><tr><td>48</td><td>$926.23</td><td>$414.77</td><td>$511.46</td><td>$1,000.00</td><td>$131,214.87</td></tr><tr><td>49</td><td>$926.23</td><td>$410.05</td><td>$516.18</td><td>$1,000.00</td><td>$129,698.69</td></tr><tr><td>50</td><td>$926.23</td><td>$405.31</td><td>$520.92</td><td>$1,000.00</td><td>$128,177.76</td></tr><tr><td>51</td><td>$926.23</td><td>$400.56</td><td>$525.68</td><td>$1,000.00</td><td>$126,652.09</td></tr><tr><td>52</td><td>$926.23</td><td>$395.79</td><td>$530.44</td><td>$1,000.00</td><td>$125,121.65</td></tr><tr><td>53</td><td>$926.23</td><td>$391.01</td><td>$535.23</td><td>$1,000.00</td><td>$123,586.42</td></tr><tr><td>54</td><td>$926.23</td><td>$386.21</td><td>$540.02</td><td>$1,000.00</td><td>$122,046.40</td></tr><tr><td>55</td><td>$926.23</td><td>$381.39</td><td>$544.84</td><td>$1,000.00</td><td>$120,501.56</td></tr><tr><td>56</td><td>$926.23</td><td>$376.57</td><td>$549.66</td><td>$1,000.00</td><td>$118,951.90</td></tr><tr><td>57</td><td>$926.23</td><td>$371.72</td><td>$554.51</td><td>$1,000.00</td><td>$117,397.39</td></tr><tr><td>58</td><td>$926.23</td><td>$366.87</td><td>$559.36</td><td>$1,000.00</td><td>$115,838.02</td></tr><tr><td>59</td><td>$926.23</td><td>$361.99</td><td>$564.24</td><td>$1,000.00</td><td>$114,273.79</td></tr><tr><td>60</td><td>$926.23</td><td>$357.11</td><td>$569.13</td><td>$1,000.00</td><td>$112,704.66</td></tr><tr><td>61</td><td>$926.23</td><td>$352.20</td><td>$574.03</td><td>$1,000.00</td><td>$111,130.63</td></tr><tr><td>62</td><td>$926.23</td><td>$347.28</td><td>$578.95</td><td>$1,000.00</td><td>$109,551.68</td></tr><tr><td>63</td><td>$926.23</td><td>$342.35</td><td>$583.88</td><td>$1,000.00</td><td>$107,967.80</td></tr><tr><td>64</td><td>$926.23</td><td>$337.40</td><td>$588.83</td><td>$1,000.00</td><td>$106,378.97</td></tr><tr><td>65</td><td>$926.23</td><td>$332.43</td><td>$593.80</td><td>$1,000.00</td><td>$104,785.17</td></tr><tr><td>66</td><td>$926.23</td><td>$327.45</td><td>$598.78</td><td>$1,000.00</td><td>$103,186.40</td></tr><tr><td>67</td><td>$926.23</td><td>$322.46</td><td>$603.77</td><td>$1,000.00</td><td>$101,582.62</td></tr><tr><td>68</td><td>$926.23</td><td>$317.45</td><td>$608.79</td><td>$1,000.00</td><td>$99,973.84</td></tr><tr><td>69</td><td>$926.23</td><td>$312.42</td><td>$613.81</td><td>$1,000.00</td><td>$98,360.02</td></tr><tr><td>70</td><td>$926.23</td><td>$307.38</td><td>$618.86</td><td>$1,000.00</td><td>$96,741.17</td></tr><tr><td>71</td><td>$926.23</td><td>$302.32</td><td>$623.92</td><td>$1,000.00</td><td>$95,117.25</td></tr><tr><td>72</td><td>$926.23</td><td>$297.24</td><td>$628.99</td><td>$1,000.00</td><td>$93,488.26</td></tr><tr><td>73</td><td>$926.23</td><td>$292.15</td><td>$634.08</td><td>$1,000.00</td><td>$91,854.18</td></tr><tr><td>74</td><td>$926.23</td><td>$287.04</td><td>$639.19</td><td>$1,000.00</td><td>$90,215.00</td></tr><tr><td>75</td><td>$926.23</td><td>$281.92</td><td>$644.31</td><td>$1,000.00</td><td>$88,570.69</td></tr><tr><td>76</td><td>$926.23</td><td>$276.78</td><td>$649.45</td><td>$1,000.00</td><td>$86,921.24</td></tr><tr><td>77</td><td>$926.23</td><td>$271.63</td><td>$654.60</td><td>$1,000.00</td><td>$85,266.64</td></tr><tr><td>78</td><td>$926.23</td><td>$266.46</td><td>$659.77</td><td>$1,000.00</td><td>$83,606.86</td></tr><tr><td>79</td><td>$926.23</td><td>$261.27</td><td>$664.96</td><td>$1,000.00</td><td>$81,941.90</td></tr><tr><td>80</td><td>$926.23</td><td>$256.07</td><td>$670.16</td><td>$1,000.00</td><td>$80,271.74</td></tr><tr><td>81</td><td>$926.23</td><td>$250.85</td><td>$675.38</td><td>$1,000.00</td><td>$78,596.36</td></tr><tr><td>82</td><td>$926.23</td><td>$245.61</td><td>$680.62</td><td>$1,000.00</td><td>$76,915.74</td></tr><tr><td>83</td><td>$926.23</td><td>$240.36</td><td>$685.87</td><td>$1,000.00</td><td>$75,229.87</td></tr><tr><td>84</td><td>$926.23</td><td>$235.09</td><td>$691.14</td><td>$1,000.00</td><td>$73,538.73</td></tr><tr><td>85</td><td>$926.23</td><td>$229.81</td><td>$696.42</td><td>$1,000.00</td><td>$71,842.31</td></tr><tr><td>86</td><td>$926.23</td><td>$224.51</td><td>$701.72</td><td>$1,000.00</td><td>$70,140.59</td></tr><tr><td>87</td><td>$926.23</td><td>$219.19</td><td>$707.04</td><td>$1,000.00</td><td>$68,433.55</td></tr><tr><td>88</td><td>$926.23</td><td>$213.85</td><td>$712.38</td><td>$1,000.00</td><td>$66,721.17</td></tr><tr><td>89</td><td>$926.23</td><td>$208.50</td><td>$717.73</td><td>$1,000.00</td><td>$65,003.44</td></tr><tr><td>90</td><td>$926.23</td><td>$203.14</td><td>$723.10</td><td>$1,000.00</td><td>$63,280.35</td></tr><tr><td>91</td><td>$926.23</td><td>$197.75</td><td>$728.48</td><td>$1,000.00</td><td>$61,551.87</td></tr><tr><td>92</td><td>$926.23</td><td>$192.35</td><td>$733.88</td><td>$1,000.00</td><td>$59,817.98</td></tr><tr><td>93</td><td>$926.23</td><td>$186.93</td><td>$739.30</td><td>$1,000.00</td><td>$58,078.68</td></tr><tr><td>94</td><td>$926.23</td><td>$181.50</td><td>$744.74</td><td>$1,000.00</td><td>$56,333.95</td></tr><tr><td>95</td><td>$926.23</td><td>$176.04</td><td>$750.19</td><td>$1,000.00</td><td>$54,583.76</td></tr><tr><td>96</td><td>$926.23</td><td>$170.57</td><td>$755.66</td><td>$1,000.00</td><td>$52,828.10</td></tr><tr><td>97</td><td>$926.23</td><td>$165.09</td><td>$761.14</td><td>$1,000.00</td><td>$51,066.96</td></tr><tr><td>98</td><td>$926.23</td><td>$159.58</td><td>$766.65</td><td>$1,000.00</td><td>$49,300.31</td></tr><tr><td>99</td><td>$926.23</td><td>$154.06</td><td>$772.17</td><td>$1,000.00</td><td>$47,528.15</td></tr><tr><td>100</td><td>$926.23</td><td>$148.53</td><td>$777.71</td><td>$1,000.00</td><td>$45,750.44</td></tr><tr><td>101</td><td>$926.23</td><td>$142.97</td><td>$783.26</td><td>$1,000.00</td><td>$43,967.18</td></tr><tr><td>102</td><td>$926.23</td><td>$137.40</td><td>$788.83</td><td>$1,000.00</td><td>$42,178.35</td></tr><tr><td>103</td><td>$926.23</td><td>$131.81</td><td>$794.42</td><td>$1,000.00</td><td>$40,383.92</td></tr><tr><td>104</td><td>$926.23</td><td>$126.20</td><td>$800.03</td><td>$1,000.00</td><td>$38,583.89</td></tr><tr><td>105</td><td>$926.23</td><td>$120.57</td><td>$805.66</td><td>$1,000.00</td><td>$36,778.23</td></tr><tr><td>106</td><td>$926.23</td><td>$114.93</td><td>$811.30</td><td>$1,000.00</td><td>$34,966.94</td></tr><tr><td>107</td><td>$926.23</td><td>$109.27</td><td>$816.96</td><td>$1,000.00</td><td>$33,149.98</td></tr><tr><td>108</td><td>$926.23</td><td>$103.59</td><td>$822.64</td><td>$1,000.00</td><td>$31,327.34</td></tr><tr><td>109</td><td>$926.23</td><td>$97.90</td><td>$828.33</td><td>$1,000.00</td><td>$29,499.01</td></tr><tr><td>110</td><td>$926.23</td><td>$92.18</td><td>$834.05</td><td>$1,000.00</td><td>$27,664.96</td></tr><tr><td>111</td><td>$926.23</td><td>$86.45</td><td>$839.78</td><td>$1,000.00</td><td>$25,825.18</td></tr><tr><td>112</td><td>$926.23</td><td>$80.70</td><td>$845.53</td><td>$1,000.00</td><td>$23,979.65</td></tr><tr><td>113</td><td>$926.23</td><td>$74.94</td><td>$851.29</td><td>$1,000.00</td><td>$22,128.36</td></tr><tr><td>114</td><td>$926.23</td><td>$69.15</td><td>$857.08</td><td>$1,000.00</td><td>$20,271.28</td></tr><tr><td>115</td><td>$926.23</td><td>$63.35</td><td>$862.88</td><td>$1,000.00</td><td>$18,408.39</td></tr><tr><td>116</td><td>$926.23</td><td>$57.53</td><td>$868.70</td><td>$1,000.00</td><td>$16,539.69</td></tr><tr><td>117</td><td>$926.23</td><td>$51.69</td><td>$874.54</td><td>$1,000.00</td><td>$14,665.14</td></tr><tr><td>118</td><td>$926.23</td><td>$45.83</td><td>$880.40</td><td>$1,000.00</td><td>$12,784.74</td></tr><tr><td>119</td><td>$926.23</td><td>$39.95</td><td>$886.28</td><td>$1,000.00</td><td>$10,898.46</td></tr><tr><td>120</td><td>$926.23</td><td>$34.06</td><td>$892.17</td><td>$1,000.00</td><td>$9,006.29</td></tr><tr><td>121</td><td>$926.23</td><td>$28.14</td><td>$898.09</td><td>$1,000.00</td><td>$7,108.20</td></tr><tr><td>122</td><td>$926.23</td><td>$22.21</td><td>$904.02</td><td>$1,000.00</td><td>$5,204.19</td></tr><tr><td>123</td><td>$926.23</td><td>$16.26</td><td>$909.97</td><td>$1,000.00</td><td>$3,294.22</td></tr><tr><td>124</td><td>$926.23</td><td>$10.29</td><td>$915.94</td><td>$1,000.00</td><td>$1,378.28</td></tr><tr><td>125</td><td>$926.23</td><td>$4.31</td><td>$921.92</td><td>$1,000.00</td><td>$-543.64</td></tr></table>"
      ],
      "text/plain": [
       "<IPython.core.display.HTML object>"
      ]
     },
     "metadata": {},
     "output_type": "display_data"
    }
   ],
   "source": [
    "from IPython.display import (\n",
    "    HTML,\n",
    "    display,\n",
    ")\n",
    "import mortgage\n",
    "\n",
    "loan = mortgage.Loan(200_000, 3.75, 30*12, overpayment=1000)\n",
    "print(f\"Monthly mortgage payment: {loan.monthly_payment}\")\n",
    "print(f\"After 1 month, you will owe: {loan.balance_after(1)}\")\n",
    "print(f\"After 5 years, you will owe: {loan.balance_after(5*12)}\")\n",
    "display(HTML(loan.htmlschedule()))"
   ]
  },
  {
   "cell_type": "code",
   "execution_count": null,
   "metadata": {},
   "outputs": [],
   "source": []
  }
 ],
 "metadata": {
  "kernelspec": {
   "display_name": "Python 3",
   "language": "python",
   "name": "python3"
  },
  "language_info": {
   "codemirror_mode": {
    "name": "ipython",
    "version": 3
   },
   "file_extension": ".py",
   "mimetype": "text/x-python",
   "name": "python",
   "nbconvert_exporter": "python",
   "pygments_lexer": "ipython3",
   "version": "3.6.1"
  }
 },
 "nbformat": 4,
 "nbformat_minor": 2
}
